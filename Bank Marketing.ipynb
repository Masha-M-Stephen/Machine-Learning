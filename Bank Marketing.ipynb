{
 "cells": [
  {
   "cell_type": "markdown",
   "metadata": {},
   "source": [
    "Citation Request:\n",
    "  This dataset is public available for research. The details are described in [Moro et al., 2011]. \n",
    "  Please include this citation if you plan to use this database:\n",
    "\n",
    "  [Moro et al., 2011] S. Moro, R. Laureano and P. Cortez. Using Data Mining for Bank Direct Marketing: An Application of the CRISP-DM Methodology. \n",
    "  In P. Novais et al. (Eds.), Proceedings of the European Simulation and Modelling Conference - ESM'2011, pp. 117-121, Guimarães, Portugal, October, 2011. EUROSIS.\n",
    "\n",
    "1. Title: Bank Marketing\n",
    "\n",
    "2. Sources\n",
    "   Created by: Paulo Cortez (Univ. Minho) and Sérgio Moro (ISCTE-IUL) @ 2012\n",
    "\n",
    "\n",
    "   The classification goal is to predict if the client will subscribe a term deposit (variable y).\n",
    "\n",
    "5. Number of Instances: 45211 for bank-full.csv (4521 for bank.csv)\n",
    "\n",
    "6. Number of Attributes: 16 + output attribute.\n",
    "\n",
    "7. Attribute information:\n",
    "\n",
    "   For more information, read [Moro et al., 2011].\n",
    "\n",
    "   Input variables:\n",
    "   # Bank client data:\n",
    "   1 - age (numeric)\n",
    "\n",
    "   2 - job : type of job (categorical: \"admin.\",\"unknown\",\"unemployed\",\"management\",\"housemaid\",\"entrepreneur\",\"student\",\n",
    "                                       \"blue-collar\",\"self-employed\",\"retired\",\"technician\",\"services\") \n",
    "\n",
    "   3 - marital : marital status (categorical: \"married\",\"divorced\",\"single\"; note: \"divorced\" means divorced or widowed)\n",
    "\n",
    "   4 - education (categorical: \"unknown\",\"secondary\",\"primary\",\"tertiary\")\n",
    "\n",
    "   5 - default: has credit in default? (binary: \"yes\",\"no\")\n",
    "\n",
    "   6 - balance: average yearly balance, in euros (numeric) \n",
    "\n",
    "   7 - housing: has housing loan? (binary: \"yes\",\"no\")\n",
    "\n",
    "   8 - loan: has personal loan? (binary: \"yes\",\"no\")\n",
    "\n",
    "   # Related with the last contact of the current campaign:\n",
    "\n",
    "   9 - contact: contact communication type (categorical: \"unknown\",\"telephone\",\"cellular\") \n",
    "\n",
    "  10 - day: last contact day of the month (numeric)\n",
    "\n",
    "  11 - month: last contact month of year (categorical: \"jan\", \"feb\", \"mar\", ..., \"nov\", \"dec\")\n",
    "\n",
    "  12 - duration: last contact duration, in seconds (numeric)\n",
    "\n",
    "   # Other attributes:\n",
    "\n",
    "  13 - campaign: number of contacts performed during this campaign and for this client (numeric, includes last contact)\n",
    "\n",
    "  14 - pdays: number of days that passed by after the client was last contacted from a previous campaign (numeric, -1 means client was not previously contacted)\n",
    "\n",
    "  15 - previous: number of contacts performed before this campaign and for this client (numeric)\n",
    "\n",
    "  16 - poutcome: outcome of the previous marketing campaign (categorical: \"unknown\",\"other\",\"failure\",\"success\")\n",
    "\n",
    "\n",
    "  Output variable (desired target):\n",
    "\n",
    "  17 - y - has the client subscribed a term deposit? (binary: \"yes\",\"no\")\n"
   ]
  },
  {
   "cell_type": "code",
   "execution_count": 25,
   "metadata": {},
   "outputs": [],
   "source": [
    "# Importing Libs \n",
    "import numpy as np\n",
    "import pandas as pd\n",
    "import seaborn as sns\n",
    "import matplotlib.pyplot as plt"
   ]
  },
  {
   "cell_type": "code",
   "execution_count": 26,
   "metadata": {},
   "outputs": [
    {
     "data": {
      "text/html": [
       "<div>\n",
       "<style scoped>\n",
       "    .dataframe tbody tr th:only-of-type {\n",
       "        vertical-align: middle;\n",
       "    }\n",
       "\n",
       "    .dataframe tbody tr th {\n",
       "        vertical-align: top;\n",
       "    }\n",
       "\n",
       "    .dataframe thead th {\n",
       "        text-align: right;\n",
       "    }\n",
       "</style>\n",
       "<table border=\"1\" class=\"dataframe\">\n",
       "  <thead>\n",
       "    <tr style=\"text-align: right;\">\n",
       "      <th></th>\n",
       "      <th>Age</th>\n",
       "      <th>Job</th>\n",
       "      <th>Marital</th>\n",
       "      <th>Education</th>\n",
       "      <th>Default</th>\n",
       "      <th>Balance</th>\n",
       "      <th>Housing</th>\n",
       "      <th>Loan</th>\n",
       "      <th>Contact</th>\n",
       "      <th>Day</th>\n",
       "      <th>Month</th>\n",
       "      <th>Duration</th>\n",
       "      <th>Campaign</th>\n",
       "      <th>P-Day</th>\n",
       "      <th>Previous</th>\n",
       "      <th>Poutcome</th>\n",
       "      <th>Subscribed</th>\n",
       "    </tr>\n",
       "  </thead>\n",
       "  <tbody>\n",
       "    <tr>\n",
       "      <th>0</th>\n",
       "      <td>58</td>\n",
       "      <td>management</td>\n",
       "      <td>married</td>\n",
       "      <td>tertiary</td>\n",
       "      <td>0</td>\n",
       "      <td>2143</td>\n",
       "      <td>1</td>\n",
       "      <td>0</td>\n",
       "      <td>unknown</td>\n",
       "      <td>5</td>\n",
       "      <td>may</td>\n",
       "      <td>261</td>\n",
       "      <td>1</td>\n",
       "      <td>-1</td>\n",
       "      <td>0</td>\n",
       "      <td>unknown</td>\n",
       "      <td>0</td>\n",
       "    </tr>\n",
       "    <tr>\n",
       "      <th>1</th>\n",
       "      <td>44</td>\n",
       "      <td>technician</td>\n",
       "      <td>single</td>\n",
       "      <td>secondary</td>\n",
       "      <td>0</td>\n",
       "      <td>29</td>\n",
       "      <td>1</td>\n",
       "      <td>0</td>\n",
       "      <td>unknown</td>\n",
       "      <td>5</td>\n",
       "      <td>may</td>\n",
       "      <td>151</td>\n",
       "      <td>1</td>\n",
       "      <td>-1</td>\n",
       "      <td>0</td>\n",
       "      <td>unknown</td>\n",
       "      <td>0</td>\n",
       "    </tr>\n",
       "    <tr>\n",
       "      <th>2</th>\n",
       "      <td>33</td>\n",
       "      <td>entrepreneur</td>\n",
       "      <td>married</td>\n",
       "      <td>secondary</td>\n",
       "      <td>0</td>\n",
       "      <td>2</td>\n",
       "      <td>1</td>\n",
       "      <td>1</td>\n",
       "      <td>unknown</td>\n",
       "      <td>5</td>\n",
       "      <td>may</td>\n",
       "      <td>76</td>\n",
       "      <td>1</td>\n",
       "      <td>-1</td>\n",
       "      <td>0</td>\n",
       "      <td>unknown</td>\n",
       "      <td>0</td>\n",
       "    </tr>\n",
       "    <tr>\n",
       "      <th>3</th>\n",
       "      <td>47</td>\n",
       "      <td>blue-collar</td>\n",
       "      <td>married</td>\n",
       "      <td>unknown</td>\n",
       "      <td>0</td>\n",
       "      <td>1506</td>\n",
       "      <td>1</td>\n",
       "      <td>0</td>\n",
       "      <td>unknown</td>\n",
       "      <td>5</td>\n",
       "      <td>may</td>\n",
       "      <td>92</td>\n",
       "      <td>1</td>\n",
       "      <td>-1</td>\n",
       "      <td>0</td>\n",
       "      <td>unknown</td>\n",
       "      <td>0</td>\n",
       "    </tr>\n",
       "    <tr>\n",
       "      <th>4</th>\n",
       "      <td>33</td>\n",
       "      <td>unknown</td>\n",
       "      <td>single</td>\n",
       "      <td>unknown</td>\n",
       "      <td>0</td>\n",
       "      <td>1</td>\n",
       "      <td>0</td>\n",
       "      <td>0</td>\n",
       "      <td>unknown</td>\n",
       "      <td>5</td>\n",
       "      <td>may</td>\n",
       "      <td>198</td>\n",
       "      <td>1</td>\n",
       "      <td>-1</td>\n",
       "      <td>0</td>\n",
       "      <td>unknown</td>\n",
       "      <td>0</td>\n",
       "    </tr>\n",
       "  </tbody>\n",
       "</table>\n",
       "</div>"
      ],
      "text/plain": [
       "   Age           Job  Marital  Education  Default  Balance  Housing  Loan  \\\n",
       "0   58    management  married   tertiary        0     2143        1     0   \n",
       "1   44    technician   single  secondary        0       29        1     0   \n",
       "2   33  entrepreneur  married  secondary        0        2        1     1   \n",
       "3   47   blue-collar  married    unknown        0     1506        1     0   \n",
       "4   33       unknown   single    unknown        0        1        0     0   \n",
       "\n",
       "   Contact  Day Month  Duration  Campaign  P-Day  Previous Poutcome  \\\n",
       "0  unknown    5   may       261         1     -1         0  unknown   \n",
       "1  unknown    5   may       151         1     -1         0  unknown   \n",
       "2  unknown    5   may        76         1     -1         0  unknown   \n",
       "3  unknown    5   may        92         1     -1         0  unknown   \n",
       "4  unknown    5   may       198         1     -1         0  unknown   \n",
       "\n",
       "   Subscribed  \n",
       "0           0  \n",
       "1           0  \n",
       "2           0  \n",
       "3           0  \n",
       "4           0  "
      ]
     },
     "execution_count": 26,
     "metadata": {},
     "output_type": "execute_result"
    }
   ],
   "source": [
    "bank = pd.read_excel(\"Bank.xlsx\")\n",
    "bank.head()"
   ]
  },
  {
   "cell_type": "code",
   "execution_count": 27,
   "metadata": {},
   "outputs": [
    {
     "name": "stdout",
     "output_type": "stream",
     "text": [
      "<class 'pandas.core.frame.DataFrame'>\n",
      "RangeIndex: 45211 entries, 0 to 45210\n",
      "Data columns (total 17 columns):\n",
      " #   Column      Non-Null Count  Dtype \n",
      "---  ------      --------------  ----- \n",
      " 0   Age         45211 non-null  int64 \n",
      " 1   Job         45211 non-null  object\n",
      " 2   Marital     45211 non-null  object\n",
      " 3   Education   45211 non-null  object\n",
      " 4   Default     45211 non-null  int64 \n",
      " 5   Balance     45211 non-null  int64 \n",
      " 6   Housing     45211 non-null  int64 \n",
      " 7   Loan        45211 non-null  int64 \n",
      " 8   Contact     45211 non-null  object\n",
      " 9   Day         45211 non-null  int64 \n",
      " 10  Month       45211 non-null  object\n",
      " 11  Duration    45211 non-null  int64 \n",
      " 12  Campaign    45211 non-null  int64 \n",
      " 13  P-Day       45211 non-null  int64 \n",
      " 14  Previous    45211 non-null  int64 \n",
      " 15  Poutcome    45211 non-null  object\n",
      " 16  Subscribed  45211 non-null  int64 \n",
      "dtypes: int64(11), object(6)\n",
      "memory usage: 5.9+ MB\n"
     ]
    }
   ],
   "source": [
    "bank.info()"
   ]
  },
  {
   "cell_type": "markdown",
   "metadata": {},
   "source": [
    "### EDA"
   ]
  },
  {
   "cell_type": "markdown",
   "metadata": {},
   "source": [
    "Q1. How many customers subscribed vs the unsubscribed?"
   ]
  },
  {
   "cell_type": "code",
   "execution_count": 28,
   "metadata": {},
   "outputs": [
    {
     "data": {
      "image/png": "[encoded data removed]",
      "text/plain": [
       "<Figure size 432x288 with 1 Axes>"
      ]
     },
     "metadata": {
      "needs_background": "light"
     },
     "output_type": "display_data"
    }
   ],
   "source": [
    "# Graphical representation of the Subscribed count\n",
    "ax =sns.countplot(data=bank, x='Subscribed', order=bank['Subscribed'].value_counts().index)\n",
    "ax.set_title('Subscription Count')\n",
    "for container in ax.containers:\n",
    "    ax.bar_label(container)"
   ]
  },
  {
   "cell_type": "markdown",
   "metadata": {},
   "source": [
    "Q2. Find the subscription by Job, Marital Status, Education & Job"
   ]
  },
  {
   "cell_type": "code",
   "execution_count": 29,
   "metadata": {},
   "outputs": [
    {
     "data": {
      "image/png": "[encoded data removed]",
      "text/plain": [
       "<Figure size 1008x720 with 1 Axes>"
      ]
     },
     "metadata": {
      "needs_background": "light"
     },
     "output_type": "display_data"
    }
   ],
   "source": [
    "plt.figure(figsize=(14,10))\n",
    "ax =sns.countplot(data=bank, y='Job', order=bank['Job'].value_counts().index, hue = 'Subscribed')\n",
    "ax.set_title('Job Type By Subscription')\n",
    "for container in ax.containers:\n",
    "    ax.bar_label(container)"
   ]
  },
  {
   "cell_type": "code",
   "execution_count": 30,
   "metadata": {},
   "outputs": [
    {
     "data": {
      "image/png": "[encoded data removed]",
      "text/plain": [
       "<Figure size 1008x360 with 1 Axes>"
      ]
     },
     "metadata": {
      "needs_background": "light"
     },
     "output_type": "display_data"
    }
   ],
   "source": [
    "plt.figure(figsize=(14,5))\n",
    "ax =sns.countplot(data=bank, y='Education', order=bank['Education'].value_counts().index, hue = 'Subscribed')\n",
    "ax.set_title('Education By Subscription')\n",
    "for container in ax.containers:\n",
    "    ax.bar_label(container)"
   ]
  },
  {
   "cell_type": "code",
   "execution_count": 31,
   "metadata": {},
   "outputs": [
    {
     "data": {
      "image/png": "[encoded data removed]",
      "text/plain": [
       "<Figure size 1008x360 with 1 Axes>"
      ]
     },
     "metadata": {
      "needs_background": "light"
     },
     "output_type": "display_data"
    }
   ],
   "source": [
    "plt.figure(figsize=(14,5))\n",
    "ax =sns.countplot(data=bank, y='Marital', order=bank['Marital'].value_counts().index, hue = 'Subscribed')\n",
    "ax.set_title('Marital Status By Subscription')\n",
    "for container in ax.containers:\n",
    "    ax.bar_label(container)"
   ]
  },
  {
   "cell_type": "code",
   "execution_count": 32,
   "metadata": {},
   "outputs": [
    {
     "data": {
      "image/png": "[encoded data removed]",
      "text/plain": [
       "<Figure size 1008x432 with 1 Axes>"
      ]
     },
     "metadata": {
      "needs_background": "light"
     },
     "output_type": "display_data"
    }
   ],
   "source": [
    "# Age ( <35, <50 <75 >75)\n",
    "plt.figure(figsize=(14, 6))\n",
    "bank.loc[(bank['Age'] <35), 'Age_Group'] = '0-35 Years'\n",
    "bank.loc[(bank['Age'] > 34)&(bank['Age'] < 50), 'Age_Group'] = '35-49 Years'\n",
    "bank.loc[(bank['Age'] > 49)&(bank['Age'] < 74), 'Age_Group'] = '50-74 Years'\n",
    "bank.loc[(bank['Age'] > 74),'Age_Group'] = '75 and Above Years'\n",
    "\n",
    "ax =sns.countplot(data=bank, y='Age_Group', order=bank['Age_Group'].value_counts().index, hue = 'Subscribed')\n",
    "ax.set_title('Age By Subscription')\n",
    "for container in ax.containers:\n",
    "    ax.bar_label(container)"
   ]
  },
  {
   "cell_type": "markdown",
   "metadata": {},
   "source": [
    "### Feature Engineering For Classification"
   ]
  },
  {
   "cell_type": "code",
   "execution_count": 33,
   "metadata": {},
   "outputs": [
    {
     "data": {
      "text/plain": [
       "Index(['Default', 'Balance', 'Housing', 'Loan', 'Day', 'Duration', 'Campaign',\n",
       "       'P-Day', 'Previous', 'Subscribed', 'Job_admin.', 'Job_blue-collar',\n",
       "       'Job_entrepreneur', 'Job_housemaid', 'Job_management', 'Job_retired',\n",
       "       'Job_self-employed', 'Job_services', 'Job_student', 'Job_technician',\n",
       "       'Job_unemployed', 'Job_unknown', 'Marital_divorced', 'Marital_married',\n",
       "       'Marital_single', 'Education_primary', 'Education_secondary',\n",
       "       'Education_tertiary', 'Education_unknown', 'Contact_cellular',\n",
       "       'Contact_telephone', 'Contact_unknown', 'Month_apr', 'Month_aug',\n",
       "       'Month_dec', 'Month_feb', 'Month_jan', 'Month_jul', 'Month_jun',\n",
       "       'Month_mar', 'Month_may', 'Month_nov', 'Month_oct', 'Month_sep',\n",
       "       'Poutcome_failure', 'Poutcome_other', 'Poutcome_success',\n",
       "       'Poutcome_unknown', 'Age_Group_0-35 Years', 'Age_Group_35-49 Years',\n",
       "       'Age_Group_50-74 Years', 'Age_Group_75 and Above Years'],\n",
       "      dtype='object')"
      ]
     },
     "execution_count": 33,
     "metadata": {},
     "output_type": "execute_result"
    }
   ],
   "source": [
    "bank_ohe = bank\n",
    "categorical_columns = ['Job','Marital','Education','Contact', \n",
    "                       'Month', 'Poutcome', 'Age_Group']\n",
    "for col in categorical_columns:\n",
    "    col_ohe = pd.get_dummies(bank[col], prefix=col)\n",
    "    bank_ohe = pd.concat((bank_ohe, col_ohe), axis=1).drop(col, axis=1)\n",
    "\n",
    "bank_ohe.drop('Age', axis=1, inplace=True)\n",
    "bank_ohe.columns"
   ]
  },
  {
   "cell_type": "code",
   "execution_count": 34,
   "metadata": {},
   "outputs": [],
   "source": [
    "from sklearn import preprocessing\n",
    "X = bank_ohe[['Default', 'Balance', 'Housing', 'Loan', 'Day', 'Duration', 'Campaign',\n",
    "       'P-Day', 'Previous', 'Subscribed', 'Job_admin.', 'Job_blue-collar',\n",
    "       'Job_entrepreneur', 'Job_housemaid', 'Job_management', 'Job_retired',\n",
    "       'Job_self-employed', 'Job_services', 'Job_student', 'Job_technician',\n",
    "       'Job_unemployed', 'Job_unknown', 'Marital_divorced', 'Marital_married',\n",
    "       'Marital_single', 'Education_primary', 'Education_secondary',\n",
    "       'Education_tertiary', 'Education_unknown', 'Contact_cellular',\n",
    "       'Contact_telephone', 'Contact_unknown', 'Month_apr', 'Month_aug',\n",
    "       'Month_dec', 'Month_feb', 'Month_jan', 'Month_jul', 'Month_jun',\n",
    "       'Month_mar', 'Month_may', 'Month_nov', 'Month_oct', 'Month_sep',\n",
    "       'Poutcome_failure', 'Poutcome_other', 'Poutcome_success',\n",
    "       'Poutcome_unknown', 'Age_Group_0-35 Years', 'Age_Group_35-49 Years',\n",
    "       'Age_Group_50-74 Years', 'Age_Group_75 and Above Years']]\n",
    "y =bank_ohe['Subscribed'].values"
   ]
  },
  {
   "cell_type": "code",
   "execution_count": 35,
   "metadata": {},
   "outputs": [
    {
     "data": {
      "text/plain": [
       "array([[-1.35489888e-01,  2.56419252e-01,  8.93915409e-01,\n",
       "        -4.36803470e-01, -1.29847633e+00,  1.10160979e-02,\n",
       "        -5.69350638e-01, -4.11453106e-01, -2.51940371e-01,\n",
       "        -3.63982613e-01, -3.59368688e-01, -5.23739543e-01,\n",
       "        -1.84414702e-01, -1.67929762e-01,  1.94427007e+00,\n",
       "        -2.29599953e-01, -1.90234160e-01, -3.18082400e-01,\n",
       "        -1.45556614e-01, -4.49413696e-01, -1.72266322e-01,\n",
       "        -8.00685324e-02, -3.60779689e-01,  8.13212168e-01,\n",
       "        -6.28090275e-01, -4.22607971e-01, -1.02674490e+00,\n",
       "         1.54889242e+00, -2.06962359e-01, -1.35602988e+00,\n",
       "        -2.62090908e-01,  1.57239532e+00, -2.63341697e-01,\n",
       "        -4.00409143e-01, -6.89628350e-02, -2.49476685e-01,\n",
       "        -1.78958414e-01, -4.24206240e-01, -3.66005972e-01,\n",
       "        -1.03261950e-01,  1.51137390e+00, -3.10263480e-01,\n",
       "        -1.28819013e-01, -1.13898003e-01, -3.48687158e-01,\n",
       "        -2.05972478e-01, -1.85948001e-01,  4.72519247e-01,\n",
       "        -7.05090157e-01, -8.90836170e-01,  1.89385577e+00,\n",
       "        -8.17305205e-02],\n",
       "       [-1.35489888e-01, -4.37894695e-01,  8.93915409e-01,\n",
       "        -4.36803470e-01, -1.29847633e+00, -4.16126957e-01,\n",
       "        -5.69350638e-01, -4.11453106e-01, -2.51940371e-01,\n",
       "        -3.63982613e-01, -3.59368688e-01, -5.23739543e-01,\n",
       "        -1.84414702e-01, -1.67929762e-01, -5.14331840e-01,\n",
       "        -2.29599953e-01, -1.90234160e-01, -3.18082400e-01,\n",
       "        -1.45556614e-01,  2.22512133e+00, -1.72266322e-01,\n",
       "        -8.00685324e-02, -3.60779689e-01, -1.22969139e+00,\n",
       "         1.59212782e+00, -4.22607971e-01,  9.73951754e-01,\n",
       "        -6.45622630e-01, -2.06962359e-01, -1.35602988e+00,\n",
       "        -2.62090908e-01,  1.57239532e+00, -2.63341697e-01,\n",
       "        -4.00409143e-01, -6.89628350e-02, -2.49476685e-01,\n",
       "        -1.78958414e-01, -4.24206240e-01, -3.66005972e-01,\n",
       "        -1.03261950e-01,  1.51137390e+00, -3.10263480e-01,\n",
       "        -1.28819013e-01, -1.13898003e-01, -3.48687158e-01,\n",
       "        -2.05972478e-01, -1.85948001e-01,  4.72519247e-01,\n",
       "        -7.05090157e-01,  1.12254086e+00, -5.28023315e-01,\n",
       "        -8.17305205e-02],\n",
       "       [-1.35489888e-01, -4.46762470e-01,  8.93915409e-01,\n",
       "         2.28935910e+00, -1.29847633e+00, -7.07360859e-01,\n",
       "        -5.69350638e-01, -4.11453106e-01, -2.51940371e-01,\n",
       "        -3.63982613e-01, -3.59368688e-01, -5.23739543e-01,\n",
       "         5.42256115e+00, -1.67929762e-01, -5.14331840e-01,\n",
       "        -2.29599953e-01, -1.90234160e-01, -3.18082400e-01,\n",
       "        -1.45556614e-01, -4.49413696e-01, -1.72266322e-01,\n",
       "        -8.00685324e-02, -3.60779689e-01,  8.13212168e-01,\n",
       "        -6.28090275e-01, -4.22607971e-01,  9.73951754e-01,\n",
       "        -6.45622630e-01, -2.06962359e-01, -1.35602988e+00,\n",
       "        -2.62090908e-01,  1.57239532e+00, -2.63341697e-01,\n",
       "        -4.00409143e-01, -6.89628350e-02, -2.49476685e-01,\n",
       "        -1.78958414e-01, -4.24206240e-01, -3.66005972e-01,\n",
       "        -1.03261950e-01,  1.51137390e+00, -3.10263480e-01,\n",
       "        -1.28819013e-01, -1.13898003e-01, -3.48687158e-01,\n",
       "        -2.05972478e-01, -1.85948001e-01,  4.72519247e-01,\n",
       "         1.41825835e+00, -8.90836170e-01, -5.28023315e-01,\n",
       "        -8.17305205e-02],\n",
       "       [-1.35489888e-01,  4.72054470e-02,  8.93915409e-01,\n",
       "        -4.36803470e-01, -1.29847633e+00, -6.45230960e-01,\n",
       "        -5.69350638e-01, -4.11453106e-01, -2.51940371e-01,\n",
       "        -3.63982613e-01, -3.59368688e-01,  1.90934600e+00,\n",
       "        -1.84414702e-01, -1.67929762e-01, -5.14331840e-01,\n",
       "        -2.29599953e-01, -1.90234160e-01, -3.18082400e-01,\n",
       "        -1.45556614e-01, -4.49413696e-01, -1.72266322e-01,\n",
       "        -8.00685324e-02, -3.60779689e-01,  8.13212168e-01,\n",
       "        -6.28090275e-01, -4.22607971e-01, -1.02674490e+00,\n",
       "        -6.45622630e-01,  4.83179650e+00, -1.35602988e+00,\n",
       "        -2.62090908e-01,  1.57239532e+00, -2.63341697e-01,\n",
       "        -4.00409143e-01, -6.89628350e-02, -2.49476685e-01,\n",
       "        -1.78958414e-01, -4.24206240e-01, -3.66005972e-01,\n",
       "        -1.03261950e-01,  1.51137390e+00, -3.10263480e-01,\n",
       "        -1.28819013e-01, -1.13898003e-01, -3.48687158e-01,\n",
       "        -2.05972478e-01, -1.85948001e-01,  4.72519247e-01,\n",
       "        -7.05090157e-01,  1.12254086e+00, -5.28023315e-01,\n",
       "        -8.17305205e-02],\n",
       "       [-1.35489888e-01, -4.47090906e-01, -1.11867408e+00,\n",
       "        -4.36803470e-01, -1.29847633e+00, -2.33620379e-01,\n",
       "        -5.69350638e-01, -4.11453106e-01, -2.51940371e-01,\n",
       "        -3.63982613e-01, -3.59368688e-01, -5.23739543e-01,\n",
       "        -1.84414702e-01, -1.67929762e-01, -5.14331840e-01,\n",
       "        -2.29599953e-01, -1.90234160e-01, -3.18082400e-01,\n",
       "        -1.45556614e-01, -4.49413696e-01, -1.72266322e-01,\n",
       "         1.24893010e+01, -3.60779689e-01, -1.22969139e+00,\n",
       "         1.59212782e+00, -4.22607971e-01, -1.02674490e+00,\n",
       "        -6.45622630e-01,  4.83179650e+00, -1.35602988e+00,\n",
       "        -2.62090908e-01,  1.57239532e+00, -2.63341697e-01,\n",
       "        -4.00409143e-01, -6.89628350e-02, -2.49476685e-01,\n",
       "        -1.78958414e-01, -4.24206240e-01, -3.66005972e-01,\n",
       "        -1.03261950e-01,  1.51137390e+00, -3.10263480e-01,\n",
       "        -1.28819013e-01, -1.13898003e-01, -3.48687158e-01,\n",
       "        -2.05972478e-01, -1.85948001e-01,  4.72519247e-01,\n",
       "         1.41825835e+00, -8.90836170e-01, -5.28023315e-01,\n",
       "        -8.17305205e-02]])"
      ]
     },
     "execution_count": 35,
     "metadata": {},
     "output_type": "execute_result"
    }
   ],
   "source": [
    "#scaling is important\n",
    "X =preprocessing.StandardScaler().fit(X).transform(X.astype(float))\n",
    "X[0:5]"
   ]
  },
  {
   "cell_type": "code",
   "execution_count": 36,
   "metadata": {},
   "outputs": [
    {
     "name": "stdout",
     "output_type": "stream",
     "text": [
      "Train set:  (33908, 52) (33908,)\n",
      "Test set:  (11303, 52) (11303,)\n"
     ]
    }
   ],
   "source": [
    "from sklearn.model_selection import train_test_split\n",
    "from collections import Counter\n",
    "from imblearn.under_sampling import RandomUnderSampler\n",
    "X_train, X_test, y_train, y_test = train_test_split(X, y,test_size = 0.25, random_state = 2)\n",
    "print('Train set: ', X_train.shape, y_train.shape)\n",
    "print('Test set: ', X_test.shape, y_test.shape)"
   ]
  },
  {
   "cell_type": "code",
   "execution_count": 37,
   "metadata": {},
   "outputs": [
    {
     "name": "stdout",
     "output_type": "stream",
     "text": [
      "Before undersampling:  Counter({0: 29931, 1: 3977})\n",
      "After undersampling:  Counter({0: 3977, 1: 3977})\n"
     ]
    }
   ],
   "source": [
    "# The Data is imbalanced\n",
    "# Most researches have pointed out that undersampling in most cases does produce better results than oversampling\n",
    "\n",
    "# summarize class distribution\n",
    "print(\"Before undersampling: \", Counter(y_train))\n",
    "\n",
    "# define undersampling strategy\n",
    "undersample = RandomUnderSampler(sampling_strategy='majority')\n",
    "\n",
    "# fit and apply the transform\n",
    "X_train_under, y_train_under = undersample.fit_resample(X_train, y_train)\n",
    "\n",
    "# summarize class distribution\n",
    "print(\"After undersampling: \", Counter(y_train_under))"
   ]
  },
  {
   "cell_type": "markdown",
   "metadata": {},
   "source": [
    "### Modeling to Find the Best Model"
   ]
  },
  {
   "cell_type": "markdown",
   "metadata": {},
   "source": [
    "#### Model 1: Logistic Rregression"
   ]
  },
  {
   "cell_type": "code",
   "execution_count": 38,
   "metadata": {},
   "outputs": [],
   "source": [
    "#importing libaries\n",
    "import scipy.optimize as opt\n",
    "from sklearn.linear_model import LogisticRegression\n",
    "from sklearn.metrics import confusion_matrix"
   ]
  },
  {
   "cell_type": "code",
   "execution_count": 39,
   "metadata": {},
   "outputs": [
    {
     "data": {
      "text/plain": [
       "array([0, 0, 0, ..., 0, 0, 0], dtype=int64)"
      ]
     },
     "execution_count": 39,
     "metadata": {},
     "output_type": "execute_result"
    }
   ],
   "source": [
    "# Model fitting\n",
    "LR = LogisticRegression(C= 0.01, solver = 'liblinear').fit(X_train_under, y_train_under)\n",
    "# Prediction\n",
    "yhat2 = LR.predict(X_test)\n",
    "yhat2"
   ]
  },
  {
   "cell_type": "code",
   "execution_count": 40,
   "metadata": {},
   "outputs": [
    {
     "data": {
      "text/plain": [
       "array([[0.94107627, 0.05892373],\n",
       "       [0.94813022, 0.05186978],\n",
       "       [0.95466147, 0.04533853],\n",
       "       ...,\n",
       "       [0.89643927, 0.10356073],\n",
       "       [0.94942565, 0.05057435],\n",
       "       [0.9338444 , 0.0661556 ]])"
      ]
     },
     "execution_count": 40,
     "metadata": {},
     "output_type": "execute_result"
    }
   ],
   "source": [
    "#estimates for all classes \n",
    "yhat2_prob = LR.predict_proba(X_test)\n",
    "yhat2_prob"
   ]
  },
  {
   "cell_type": "code",
   "execution_count": 41,
   "metadata": {},
   "outputs": [
    {
     "data": {
      "text/plain": [
       "0.9992383853769993"
      ]
     },
     "execution_count": 41,
     "metadata": {},
     "output_type": "execute_result"
    }
   ],
   "source": [
    "#evaluation \n",
    "from sklearn.metrics import jaccard_score\n",
    "jaccard_score(y_test, yhat2)"
   ]
  },
  {
   "cell_type": "code",
   "execution_count": 42,
   "metadata": {},
   "outputs": [
    {
     "data": {
      "text/plain": [
       "0.9999115425508642"
      ]
     },
     "execution_count": 42,
     "metadata": {},
     "output_type": "execute_result"
    }
   ],
   "source": [
    "#finding the f1 score\n",
    "from sklearn.metrics import f1_score\n",
    "F1_score = f1_score(y_test, yhat2, average='weighted')\n",
    "F1_score"
   ]
  },
  {
   "cell_type": "code",
   "execution_count": 43,
   "metadata": {},
   "outputs": [
    {
     "name": "stdout",
     "output_type": "stream",
     "text": [
      "              precision    recall  f1-score   support\n",
      "\n",
      "           0       1.00      1.00      1.00      9991\n",
      "           1       1.00      1.00      1.00      1312\n",
      "\n",
      "    accuracy                           1.00     11303\n",
      "   macro avg       1.00      1.00      1.00     11303\n",
      "weighted avg       1.00      1.00      1.00     11303\n",
      "\n"
     ]
    }
   ],
   "source": [
    "from sklearn.metrics import classification_report\n",
    "print(classification_report(y_test, yhat2))"
   ]
  },
  {
   "cell_type": "code",
   "execution_count": 44,
   "metadata": {},
   "outputs": [
    {
     "name": "stdout",
     "output_type": "stream",
     "text": [
      "ROC AUC score for undersampled data:  0.9983985587028326\n",
      "              precision    recall  f1-score   support\n",
      "\n",
      "           0       1.00      1.00      1.00      9991\n",
      "           1       0.98      1.00      0.99      1312\n",
      "\n",
      "    accuracy                           1.00     11303\n",
      "   macro avg       0.99      1.00      0.99     11303\n",
      "weighted avg       1.00      1.00      1.00     11303\n",
      "\n"
     ]
    }
   ],
   "source": [
    "#PART 2\n",
    "# import SVM libraries \n",
    "from sklearn.svm import SVC\n",
    "from sklearn.metrics import classification_report, roc_auc_score\n",
    "\n",
    "model=SVC(kernel='rbf', gamma = 'scale')\n",
    "clf_under = model.fit(X_train_under, y_train_under)\n",
    "pred_under = clf_under.predict(X_test)\n",
    "\n",
    "print(\"ROC AUC score for undersampled data: \", roc_auc_score(y_test, pred_under))\n",
    "#report\n",
    "print(classification_report(y_test, pred_under))"
   ]
  },
  {
   "cell_type": "code",
   "execution_count": 45,
   "metadata": {},
   "outputs": [],
   "source": [
    "# Using Smote\n",
    "from imblearn.over_sampling import SMOTE\n",
    "from imblearn.pipeline import Pipeline\n",
    "from imblearn.under_sampling import RandomUnderSampler"
   ]
  },
  {
   "cell_type": "code",
   "execution_count": 46,
   "metadata": {},
   "outputs": [
    {
     "name": "stdout",
     "output_type": "stream",
     "text": [
      "ROC AUC score for the combined sampling method: 0.999\n"
     ]
    }
   ],
   "source": [
    "# define pipeline\n",
    "model = SVC()\n",
    "over = SMOTE(sampling_strategy=0.4)\n",
    "under = RandomUnderSampler(sampling_strategy=0.5)\n",
    "steps = [('o', over), ('u', under), ('model', model)]\n",
    "pipeline = Pipeline(steps=steps)\n",
    "\n",
    "#PART 2\n",
    "# import libraries for evaluation\n",
    "from sklearn.model_selection import cross_val_score\n",
    "from sklearn.metrics import roc_auc_score\n",
    "from numpy import mean\n",
    "\n",
    "# evaluate pipeline\n",
    "scores = cross_val_score(pipeline, X, y, scoring='roc_auc', cv=5, n_jobs=-1)\n",
    "score = mean(scores)\n",
    "print('ROC AUC score for the combined sampling method: %.3f' % score)\n"
   ]
  },
  {
   "cell_type": "code",
   "execution_count": 47,
   "metadata": {},
   "outputs": [
    {
     "data": {
      "text/plain": [
       "'Subscribe 0'"
      ]
     },
     "execution_count": 47,
     "metadata": {},
     "output_type": "execute_result"
    }
   ],
   "source": [
    "#Testing for something new\n",
    "from sklearn import preprocessing\n",
    "from matplotlib.ticker import NullFormatter\n",
    "#scaler = StandardScaler()\n",
    "\n",
    "def ind_prediction(newdata):\n",
    "    data = newdata.values.reshape(1,-1)\n",
    "    data = preprocessing.StandardScaler().fit(data).transform(data)\n",
    "    prob = LR.predict_proba(data)[0][1]\n",
    "    if prob >=0.25:\n",
    "        return 'Subscribe 1'\n",
    "    else:\n",
    "        return 'Subscribe 0'\n",
    "\n",
    "# Remaining part is pickling and deploying the model to Heroku\n",
    "# put values in after the , eg ('Default', 0)\n",
    "from collections import OrderedDict\n",
    "newdata = OrderedDict([('Default',0), ('Balance',-171), ('Housing',1), ('Loan',0), ('Day',5), ('Duration',242), ('Campaign',1),\n",
    "       ('P-Day',-1), ('Previous',0), ('Subscribed',0), ('Job_admin.',1), ('Job_blue-collar',0),\n",
    "       ('Job_entrepreneur',0), ('Job_housemaid',0), ('Job_management',0), ('Job_retired',0),\n",
    "       ('Job_self-employed',0), ('Job_services',0), ('Job_student',0), ('Job_technician',0),\n",
    "       ('Job_unemployed',0), ('Job_unknown',0), ('Marital_divorced',0), ('Marital_married',0),\n",
    "       ('Marital_single',1), ('Education_primary',1), ('Education_secondary',0),\n",
    "       ('Education_tertiary',0), ('Education_unknown',0), ('Contact_cellular',0),\n",
    "       ('Contact_telephone',0), ('Contact_unknown',1), ('Month_apr',0), ('Month_aug',0),\n",
    "       ('Month_dec',0), ('Month_feb',0), ('Month_jan',0), ('Month_jul',0), ('Month_jun',0),\n",
    "       ('Month_mar',0), ('Month_may',1), ('Month_nov',0), ('Month_oct',0), ('Month_sep',0),\n",
    "       ('Poutcome_failure',0), ('Poutcome_other',0), ('Poutcome_success',0),\n",
    "       ('Poutcome_unknown',1), ('Age_Group_0-35 Years',0), ('Age_Group_35-49 Years',1),\n",
    "       ('Age_Group_50-74 Years',0), ('Age_Group_75 and Above Years',0)])\n",
    "\n",
    "newdata = pd.Series(newdata)\n",
    "ind_prediction(newdata)"
   ]
  }
 ],
 "metadata": {
  "kernelspec": {
   "display_name": "Python 3.9.7 ('base')",
   "language": "python",
   "name": "python3"
  },
  "language_info": {
   "codemirror_mode": {
    "name": "ipython",
    "version": 3
   },
   "file_extension": ".py",
   "mimetype": "text/x-python",
   "name": "python",
   "nbconvert_exporter": "python",
   "pygments_lexer": "ipython3",
   "version": "3.9.7"
  },
  "orig_nbformat": 4,
  "vscode": {
   "interpreter": {
    "hash": "63d8941131edf5e3e2f5a9b1f090a2bca699f9f67047807b2825972dc988c2b6"
   }
  }
 },
 "nbformat": 4,
 "nbformat_minor": 2
}
